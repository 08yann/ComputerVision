{
 "cells": [
  {
   "cell_type": "code",
   "execution_count": 1,
   "metadata": {},
   "outputs": [
    {
     "name": "stdout",
     "output_type": "stream",
     "text": [
      "%pylab is deprecated, use %matplotlib inline and import the required libraries.\n",
      "Populating the interactive namespace from numpy and matplotlib\n"
     ]
    }
   ],
   "source": [
    "%load_ext autoreload\n",
    "%autoreload 2\n",
    "\n",
    "%pylab inline\n",
    "\n",
    "import torch\n",
    "import torch.nn as nn\n",
    "import torchvision\n",
    "from torch.utils.data import DataLoader\n",
    "import tqdm\n",
    "\n",
    "from models import PixelCNN\n"
   ]
  },
  {
   "cell_type": "code",
   "execution_count": 2,
   "metadata": {},
   "outputs": [],
   "source": [
    "BS = 128\n",
    "dataset = torchvision.datasets.MNIST(root = '.',download = False, transform=torchvision.transforms.Compose([\n",
    "                    torchvision.transforms.ToTensor()]))\n",
    "#Important no Normalize since we want image between 0, 1 to get the targets as int [0, ..., 255]\n",
    "dataloader = DataLoader(dataset,batch_size=BS, shuffle=True)"
   ]
  },
  {
   "cell_type": "markdown",
   "metadata": {},
   "source": [
    "# Start with lesser dimensionality channels, first only predict black or white. One channel output"
   ]
  },
  {
   "cell_type": "code",
   "execution_count": 3,
   "metadata": {},
   "outputs": [],
   "source": [
    "nb_classes = 2\n",
    "\n",
    "def quantisize(images, levels):\n",
    "    return (torch.bucketize(images, torch.arange(levels).to(images.device) / levels, right = True)-1).long()"
   ]
  },
  {
   "cell_type": "code",
   "execution_count": 4,
   "metadata": {},
   "outputs": [
    {
     "data": {
      "text/plain": [
       "tensor([[0.9856, 0.7071, 0.6806, 0.5570],\n",
       "        [0.9573, 0.4177, 0.7436, 0.9231],\n",
       "        [0.5505, 0.5772, 0.7301, 0.9214],\n",
       "        [0.0533, 0.7345, 0.8012, 0.0828]])"
      ]
     },
     "execution_count": 4,
     "metadata": {},
     "output_type": "execute_result"
    }
   ],
   "source": [
    "z = torch.rand(4,4)\n",
    "z"
   ]
  },
  {
   "cell_type": "code",
   "execution_count": 5,
   "metadata": {},
   "outputs": [
    {
     "data": {
      "text/plain": [
       "tensor([[1, 1, 1, 1],\n",
       "        [1, 0, 1, 1],\n",
       "        [1, 1, 1, 1],\n",
       "        [0, 1, 1, 0]])"
      ]
     },
     "execution_count": 5,
     "metadata": {},
     "output_type": "execute_result"
    }
   ],
   "source": [
    "quantisize(z,2)"
   ]
  },
  {
   "cell_type": "code",
   "execution_count": 6,
   "metadata": {},
   "outputs": [],
   "source": [
    "nb_layers = 6\n",
    "channel = 64\n",
    "\n",
    "img_channel = dataloader.dataset[0][0].shape[0]\n",
    "device = torch.device('cuda')"
   ]
  },
  {
   "cell_type": "code",
   "execution_count": 7,
   "metadata": {},
   "outputs": [],
   "source": [
    "model = PixelCNN(in_channel = img_channel, hidden_channel = channel, nb_blocks = nb_layers)\n",
    "model.to(device)\n",
    "\n",
    "lr = 0.001\n",
    "optim = torch.optim.AdamW(model.parameters(), lr = lr)\n",
    "criterion = nn.CrossEntropyLoss()\n",
    "binary_criterion = nn.BCELoss()\n",
    "scheduler = torch.optim.lr_scheduler.ReduceLROnPlateau(optim,  factor = 0.5, patience = 100, verbose = True)"
   ]
  },
  {
   "cell_type": "code",
   "execution_count": 8,
   "metadata": {},
   "outputs": [
    {
     "name": "stderr",
     "output_type": "stream",
     "text": [
      "  0%|          | 0/469 [00:00<?, ?it/s]C:\\Users\\yanne\\AppData\\Local\\Temp\\ipykernel_21952\\2659251405.py:18: UserWarning: torch.nn.utils.clip_grad_norm is now deprecated in favor of torch.nn.utils.clip_grad_norm_.\n",
      "  nn.utils.clip_grad_norm(model.parameters(), 1)\n",
      "Loss: 0.081: 100%|██████████| 469/469 [03:03<00:00,  2.56it/s]\n",
      "Loss: 0.079: 100%|██████████| 469/469 [03:02<00:00,  2.56it/s]\n",
      "Loss: 0.074: 100%|██████████| 469/469 [03:07<00:00,  2.51it/s]\n",
      "Loss: 0.075: 100%|██████████| 469/469 [03:07<00:00,  2.50it/s]\n",
      "Loss: 0.074: 100%|██████████| 469/469 [03:09<00:00,  2.48it/s]\n",
      "Loss: 0.075: 100%|██████████| 469/469 [03:08<00:00,  2.48it/s]\n",
      "Loss: 0.072: 100%|██████████| 469/469 [03:09<00:00,  2.48it/s]\n",
      "Loss: 0.072: 100%|██████████| 469/469 [03:08<00:00,  2.49it/s]\n",
      "Loss: 0.071: 100%|██████████| 469/469 [03:09<00:00,  2.47it/s]\n",
      "Loss: 0.071: 100%|██████████| 469/469 [03:07<00:00,  2.50it/s]\n",
      "Loss: 0.074: 100%|██████████| 469/469 [03:08<00:00,  2.49it/s]\n",
      "Loss: 0.072: 100%|██████████| 469/469 [03:08<00:00,  2.48it/s]\n",
      "Loss: 0.070: 100%|██████████| 469/469 [03:09<00:00,  2.48it/s]\n",
      "Loss: 0.074: 100%|██████████| 469/469 [03:12<00:00,  2.43it/s]\n",
      "Loss: 0.072: 100%|██████████| 469/469 [03:03<00:00,  2.56it/s]\n",
      "Loss: 0.069: 100%|██████████| 469/469 [03:00<00:00,  2.59it/s]\n",
      "Loss: 0.070: 100%|██████████| 469/469 [03:00<00:00,  2.60it/s]\n",
      "Loss: 0.069: 100%|██████████| 469/469 [03:09<00:00,  2.48it/s]\n",
      "Loss: 0.073: 100%|██████████| 469/469 [03:11<00:00,  2.45it/s]\n",
      "Loss: 0.073: 100%|██████████| 469/469 [03:12<00:00,  2.44it/s]\n",
      "Loss: 0.072: 100%|██████████| 469/469 [03:13<00:00,  2.43it/s]\n",
      "Loss: 0.071: 100%|██████████| 469/469 [03:10<00:00,  2.46it/s]\n",
      "Loss: 0.071: 100%|██████████| 469/469 [03:14<00:00,  2.41it/s]\n",
      "Loss: 0.068: 100%|██████████| 469/469 [03:10<00:00,  2.46it/s]\n",
      "Loss: 0.074: 100%|██████████| 469/469 [03:11<00:00,  2.44it/s]\n"
     ]
    }
   ],
   "source": [
    "nb_epochs = 25\n",
    "losses = []\n",
    "\n",
    "model.train()\n",
    "for _ in range(nb_epochs):\n",
    "    pbar = tqdm.tqdm(dataloader)\n",
    "    for x, _ in pbar:\n",
    "        img = quantisize(x,2).to(device).float()\n",
    "        optim.zero_grad()\n",
    "\n",
    "        out = model(2*(img-.5))\n",
    "\n",
    "        loss = binary_criterion(out, img)\n",
    "        \n",
    "\n",
    "        loss.backward()\n",
    "\n",
    "        nn.utils.clip_grad_norm(model.parameters(), 1)\n",
    "        optim.step()\n",
    "        #scheduler.step(loss)\n",
    "\n",
    "\n",
    "        losses.append(loss.item())\n",
    "        pbar.set_description(f'Loss: %.3f' % loss.item())\n",
    "\n"
   ]
  },
  {
   "cell_type": "code",
   "execution_count": 12,
   "metadata": {},
   "outputs": [
    {
     "data": {
      "text/plain": [
       "[<matplotlib.lines.Line2D at 0x22a68bb86d0>]"
      ]
     },
     "execution_count": 12,
     "metadata": {},
     "output_type": "execute_result"
    },
    {
     "data": {
      "image/png": "[encoded data removed]",
      "text/plain": [
       "<Figure size 640x480 with 1 Axes>"
      ]
     },
     "metadata": {},
     "output_type": "display_data"
    }
   ],
   "source": [
    "plot(losses)"
   ]
  },
  {
   "cell_type": "code",
   "execution_count": 68,
   "metadata": {},
   "outputs": [
    {
     "data": {
      "text/plain": [
       "<All keys matched successfully>"
      ]
     },
     "execution_count": 68,
     "metadata": {},
     "output_type": "execute_result"
    }
   ],
   "source": [
    "#torch.save(model.cpu().state_dict(), './model_saves/pixelcnnMNIST.pth')\n",
    "#model.load_state_dict(torch.load('./model_saves/pixelcnnMNIST.pth'))"
   ]
  },
  {
   "cell_type": "code",
   "execution_count": 72,
   "metadata": {},
   "outputs": [],
   "source": [
    "img = model.generate(16,28)\n",
    "grid = torchvision.utils.make_grid(img.cpu(), nrow = 4)"
   ]
  },
  {
   "cell_type": "code",
   "execution_count": 73,
   "metadata": {},
   "outputs": [
    {
     "data": {
      "text/plain": [
       "<matplotlib.image.AxesImage at 0x22aac97a790>"
      ]
     },
     "execution_count": 73,
     "metadata": {},
     "output_type": "execute_result"
    },
    {
     "data": {
      "image/png": "[encoded data removed]",
      "text/plain": [
       "<Figure size 640x480 with 1 Axes>"
      ]
     },
     "metadata": {},
     "output_type": "display_data"
    }
   ],
   "source": [
    "#grid = torchvision.utils.make_grid(img.cpu(), nrow = 10)\n",
    "imshow(grid.permute(1,2,0))"
   ]
  },
  {
   "cell_type": "code",
   "execution_count": 57,
   "metadata": {},
   "outputs": [
    {
     "data": {
      "text/plain": [
       "<matplotlib.image.AxesImage at 0x22abb23e750>"
      ]
     },
     "execution_count": 57,
     "metadata": {},
     "output_type": "execute_result"
    },
    {
     "data": {
      "image/png": "[encoded data removed]",
      "text/plain": [
       "<Figure size 640x480 with 1 Axes>"
      ]
     },
     "metadata": {},
     "output_type": "display_data"
    }
   ],
   "source": [
    "grid = torchvision.utils.make_grid(x[0].float().cpu(), nrow = 8)\n",
    "imshow(grid.permute(1,2,0))"
   ]
  },
  {
   "cell_type": "code",
   "execution_count": 58,
   "metadata": {},
   "outputs": [
    {
     "data": {
      "image/png": "[encoded data removed]",
      "text/plain": [
       "<Figure size 640x480 with 1 Axes>"
      ]
     },
     "metadata": {},
     "output_type": "display_data"
    }
   ],
   "source": [
    "with torch.no_grad(): \n",
    "    imshow(model((x[0].unsqueeze(0).to(device)-.5)*2).cpu().numpy()[0,0])"
   ]
  },
  {
   "cell_type": "code",
   "execution_count": 59,
   "metadata": {},
   "outputs": [],
   "source": [
    "BS = 128\n",
    "test_dataset = torchvision.datasets.MNIST(root = '.',download = False, train = False,transform=torchvision.transforms.Compose([\n",
    "                    torchvision.transforms.ToTensor()]))\n",
    "#Important no Normalize since we want image between 0, 1 to get the targets as int [0, ..., 255]\n",
    "test_dataloader = DataLoader(test_dataset,batch_size=BS, shuffle=True)"
   ]
  },
  {
   "cell_type": "code",
   "execution_count": 60,
   "metadata": {},
   "outputs": [],
   "source": [
    "batch = next(iter(test_dataloader))[0]"
   ]
  },
  {
   "cell_type": "code",
   "execution_count": 61,
   "metadata": {},
   "outputs": [],
   "source": [
    "model.eval()\n",
    "with torch.no_grad():\n",
    "    batch = quantisize(batch,2).to(device).float()\n",
    "    out = model(2*(batch-.5))\n",
    "\n",
    "    loss = binary_criterion(out, batch)\n"
   ]
  },
  {
   "cell_type": "code",
   "execution_count": 62,
   "metadata": {},
   "outputs": [
    {
     "data": {
      "text/plain": [
       "<matplotlib.image.AxesImage at 0x22abb618e50>"
      ]
     },
     "execution_count": 62,
     "metadata": {},
     "output_type": "execute_result"
    },
    {
     "data": {
      "image/png": "[encoded data removed]",
      "text/plain": [
       "<Figure size 640x480 with 1 Axes>"
      ]
     },
     "metadata": {},
     "output_type": "display_data"
    }
   ],
   "source": [
    "imshow(out[0,0].cpu().numpy())"
   ]
  },
  {
   "cell_type": "code",
   "execution_count": 63,
   "metadata": {},
   "outputs": [
    {
     "data": {
      "text/plain": [
       "<matplotlib.image.AxesImage at 0x22abb69b310>"
      ]
     },
     "execution_count": 63,
     "metadata": {},
     "output_type": "execute_result"
    },
    {
     "data": {
      "image/png": "[encoded data removed]",
      "text/plain": [
       "<Figure size 640x480 with 1 Axes>"
      ]
     },
     "metadata": {},
     "output_type": "display_data"
    }
   ],
   "source": [
    "imshow(batch[0,0].cpu().numpy())"
   ]
  },
  {
   "cell_type": "code",
   "execution_count": null,
   "metadata": {},
   "outputs": [],
   "source": []
  }
 ],
 "metadata": {
  "kernelspec": {
   "display_name": "base",
   "language": "python",
   "name": "python3"
  },
  "language_info": {
   "codemirror_mode": {
    "name": "ipython",
    "version": 3
   },
   "file_extension": ".py",
   "mimetype": "text/x-python",
   "name": "python",
   "nbconvert_exporter": "python",
   "pygments_lexer": "ipython3",
   "version": "3.11.5"
  }
 },
 "nbformat": 4,
 "nbformat_minor": 2
}
