{
 "cells": [
  {
   "cell_type": "code",
   "execution_count": 1,
   "metadata": {},
   "outputs": [
    {
     "name": "stdout",
     "output_type": "stream",
     "text": [
      "%pylab is deprecated, use %matplotlib inline and import the required libraries.\n",
      "Populating the interactive namespace from numpy and matplotlib\n"
     ]
    }
   ],
   "source": [
    "%load_ext autoreload\n",
    "%autoreload 2\n",
    "\n",
    "%pylab inline\n",
    "\n",
    "import torch\n",
    "import torch.nn as nn\n",
    "import torchvision\n",
    "from torch.utils.data import DataLoader\n",
    "import tqdm\n",
    "\n",
    "from models import PixelCNN\n",
    "from utils import quantisize\n"
   ]
  },
  {
   "cell_type": "code",
   "execution_count": 2,
   "metadata": {},
   "outputs": [],
   "source": [
    "BS = 128\n",
    "dataset = torchvision.datasets.MNIST(root = '.',download = False, transform=torchvision.transforms.Compose([\n",
    "                    torchvision.transforms.ToTensor()]))\n",
    "#Important no Normalize since we want image between 0, 1 to get the targets as int [0, ..., 255]\n",
    "dataloader = DataLoader(dataset,batch_size=BS, shuffle=True)"
   ]
  },
  {
   "cell_type": "markdown",
   "metadata": {},
   "source": [
    "# Start with lesser dimensionality channels, first only predict black or white. One channel output"
   ]
  },
  {
   "cell_type": "code",
   "execution_count": 4,
   "metadata": {},
   "outputs": [],
   "source": [
    "'''nb_classes = 2\n",
    "\n",
    "def quantisize(images, levels):\n",
    "    return (torch.bucketize(images, torch.arange(levels).to(images.device) / levels, right = True)-1).long()'''"
   ]
  },
  {
   "cell_type": "code",
   "execution_count": 4,
   "metadata": {},
   "outputs": [
    {
     "data": {
      "text/plain": [
       "tensor([[0.9856, 0.7071, 0.6806, 0.5570],\n",
       "        [0.9573, 0.4177, 0.7436, 0.9231],\n",
       "        [0.5505, 0.5772, 0.7301, 0.9214],\n",
       "        [0.0533, 0.7345, 0.8012, 0.0828]])"
      ]
     },
     "execution_count": 4,
     "metadata": {},
     "output_type": "execute_result"
    }
   ],
   "source": [
    "z = torch.rand(4,4)\n",
    "z"
   ]
  },
  {
   "cell_type": "code",
   "execution_count": 5,
   "metadata": {},
   "outputs": [
    {
     "data": {
      "text/plain": [
       "tensor([[1, 1, 1, 1],\n",
       "        [1, 0, 1, 1],\n",
       "        [1, 1, 1, 1],\n",
       "        [0, 1, 1, 0]])"
      ]
     },
     "execution_count": 5,
     "metadata": {},
     "output_type": "execute_result"
    }
   ],
   "source": [
    "quantisize(z,2)"
   ]
  },
  {
   "cell_type": "code",
   "execution_count": 3,
   "metadata": {},
   "outputs": [],
   "source": [
    "nb_layers = 6\n",
    "channel = 64\n",
    "\n",
    "img_channel = dataloader.dataset[0][0].shape[0]\n",
    "device = torch.device('cuda')"
   ]
  },
  {
   "cell_type": "code",
   "execution_count": 7,
   "metadata": {},
   "outputs": [],
   "source": [
    "model = PixelCNN(in_channel = img_channel, hidden_channel = channel, nb_blocks = nb_layers)\n",
    "model.to(device)\n",
    "\n",
    "lr = 0.001\n",
    "optim = torch.optim.AdamW(model.parameters(), lr = lr)\n",
    "criterion = nn.CrossEntropyLoss()\n",
    "binary_criterion = nn.BCELoss()\n",
    "scheduler = torch.optim.lr_scheduler.ReduceLROnPlateau(optim,  factor = 0.5, patience = 100, verbose = True)"
   ]
  },
  {
   "cell_type": "code",
   "execution_count": 8,
   "metadata": {},
   "outputs": [
    {
     "name": "stderr",
     "output_type": "stream",
     "text": [
      "  0%|          | 0/469 [00:00<?, ?it/s]C:\\Users\\yanne\\AppData\\Local\\Temp\\ipykernel_21952\\2659251405.py:18: UserWarning: torch.nn.utils.clip_grad_norm is now deprecated in favor of torch.nn.utils.clip_grad_norm_.\n",
      "  nn.utils.clip_grad_norm(model.parameters(), 1)\n",
      "Loss: 0.081: 100%|██████████| 469/469 [03:03<00:00,  2.56it/s]\n",
      "Loss: 0.079: 100%|██████████| 469/469 [03:02<00:00,  2.56it/s]\n",
      "Loss: 0.074: 100%|██████████| 469/469 [03:07<00:00,  2.51it/s]\n",
      "Loss: 0.075: 100%|██████████| 469/469 [03:07<00:00,  2.50it/s]\n",
      "Loss: 0.074: 100%|██████████| 469/469 [03:09<00:00,  2.48it/s]\n",
      "Loss: 0.075: 100%|██████████| 469/469 [03:08<00:00,  2.48it/s]\n",
      "Loss: 0.072: 100%|██████████| 469/469 [03:09<00:00,  2.48it/s]\n",
      "Loss: 0.072: 100%|██████████| 469/469 [03:08<00:00,  2.49it/s]\n",
      "Loss: 0.071: 100%|██████████| 469/469 [03:09<00:00,  2.47it/s]\n",
      "Loss: 0.071: 100%|██████████| 469/469 [03:07<00:00,  2.50it/s]\n",
      "Loss: 0.074: 100%|██████████| 469/469 [03:08<00:00,  2.49it/s]\n",
      "Loss: 0.072: 100%|██████████| 469/469 [03:08<00:00,  2.48it/s]\n",
      "Loss: 0.070: 100%|██████████| 469/469 [03:09<00:00,  2.48it/s]\n",
      "Loss: 0.074: 100%|██████████| 469/469 [03:12<00:00,  2.43it/s]\n",
      "Loss: 0.072: 100%|██████████| 469/469 [03:03<00:00,  2.56it/s]\n",
      "Loss: 0.069: 100%|██████████| 469/469 [03:00<00:00,  2.59it/s]\n",
      "Loss: 0.070: 100%|██████████| 469/469 [03:00<00:00,  2.60it/s]\n",
      "Loss: 0.069: 100%|██████████| 469/469 [03:09<00:00,  2.48it/s]\n",
      "Loss: 0.073: 100%|██████████| 469/469 [03:11<00:00,  2.45it/s]\n",
      "Loss: 0.073: 100%|██████████| 469/469 [03:12<00:00,  2.44it/s]\n",
      "Loss: 0.072: 100%|██████████| 469/469 [03:13<00:00,  2.43it/s]\n",
      "Loss: 0.071: 100%|██████████| 469/469 [03:10<00:00,  2.46it/s]\n",
      "Loss: 0.071: 100%|██████████| 469/469 [03:14<00:00,  2.41it/s]\n",
      "Loss: 0.068: 100%|██████████| 469/469 [03:10<00:00,  2.46it/s]\n",
      "Loss: 0.074: 100%|██████████| 469/469 [03:11<00:00,  2.44it/s]\n"
     ]
    }
   ],
   "source": [
    "nb_epochs = 25\n",
    "losses = []\n",
    "\n",
    "model.train()\n",
    "for _ in range(nb_epochs):\n",
    "    pbar = tqdm.tqdm(dataloader)\n",
    "    for x, _ in pbar:\n",
    "        img = quantisize(x,2).to(device).float()\n",
    "        optim.zero_grad()\n",
    "\n",
    "        out = model(2*(img-.5))\n",
    "\n",
    "        loss = binary_criterion(out, img)\n",
    "        \n",
    "\n",
    "        loss.backward()\n",
    "\n",
    "        nn.utils.clip_grad_norm(model.parameters(), 1)\n",
    "        optim.step()\n",
    "        #scheduler.step(loss)\n",
    "\n",
    "\n",
    "        losses.append(loss.item())\n",
    "        pbar.set_description(f'Loss: %.3f' % loss.item())\n",
    "\n"
   ]
  },
  {
   "cell_type": "code",
   "execution_count": 12,
   "metadata": {},
   "outputs": [
    {
     "data": {
      "text/plain": [
       "[<matplotlib.lines.Line2D at 0x22a68bb86d0>]"
      ]
     },
     "execution_count": 12,
     "metadata": {},
     "output_type": "execute_result"
    },
    {
     "data": {
      "image/png": "[encoded data removed]",
      "text/plain": [
       "<Figure size 640x480 with 1 Axes>"
      ]
     },
     "metadata": {},
     "output_type": "display_data"
    }
   ],
   "source": [
    "plot(losses)"
   ]
  },
  {
   "cell_type": "code",
   "execution_count": 68,
   "metadata": {},
   "outputs": [
    {
     "data": {
      "text/plain": [
       "<All keys matched successfully>"
      ]
     },
     "execution_count": 68,
     "metadata": {},
     "output_type": "execute_result"
    }
   ],
   "source": [
    "#torch.save(model.cpu().state_dict(), './model_saves/pixelcnnMNIST.pth')\n",
    "#model.load_state_dict(torch.load('./model_saves/pixelcnnMNIST.pth'))"
   ]
  },
  {
   "cell_type": "code",
   "execution_count": 72,
   "metadata": {},
   "outputs": [],
   "source": [
    "img = model.generate(16,28)\n",
    "grid = torchvision.utils.make_grid(img.cpu(), nrow = 4)"
   ]
  },
  {
   "cell_type": "code",
   "execution_count": 73,
   "metadata": {},
   "outputs": [
    {
     "data": {
      "text/plain": [
       "<matplotlib.image.AxesImage at 0x22aac97a790>"
      ]
     },
     "execution_count": 73,
     "metadata": {},
     "output_type": "execute_result"
    },
    {
     "data": {
      "image/png": "[encoded data removed]",
      "text/plain": [
       "<Figure size 640x480 with 1 Axes>"
      ]
     },
     "metadata": {},
     "output_type": "display_data"
    }
   ],
   "source": [
    "#grid = torchvision.utils.make_grid(img.cpu(), nrow = 10)\n",
    "imshow(grid.permute(1,2,0))"
   ]
  },
  {
   "cell_type": "code",
   "execution_count": 57,
   "metadata": {},
   "outputs": [
    {
     "data": {
      "text/plain": [
       "<matplotlib.image.AxesImage at 0x22abb23e750>"
      ]
     },
     "execution_count": 57,
     "metadata": {},
     "output_type": "execute_result"
    },
    {
     "data": {
      "image/png": "[encoded data removed]",
      "text/plain": [
       "<Figure size 640x480 with 1 Axes>"
      ]
     },
     "metadata": {},
     "output_type": "display_data"
    }
   ],
   "source": [
    "grid = torchvision.utils.make_grid(x[0].float().cpu(), nrow = 8)\n",
    "imshow(grid.permute(1,2,0))"
   ]
  },
  {
   "cell_type": "code",
   "execution_count": 58,
   "metadata": {},
   "outputs": [
    {
     "data": {
      "image/png": "[encoded data removed]",
      "text/plain": [
       "<Figure size 640x480 with 1 Axes>"
      ]
     },
     "metadata": {},
     "output_type": "display_data"
    }
   ],
   "source": [
    "with torch.no_grad(): \n",
    "    imshow(model((x[0].unsqueeze(0).to(device)-.5)*2).cpu().numpy()[0,0])"
   ]
  },
  {
   "cell_type": "code",
   "execution_count": 59,
   "metadata": {},
   "outputs": [],
   "source": [
    "BS = 128\n",
    "test_dataset = torchvision.datasets.MNIST(root = '.',download = False, train = False,transform=torchvision.transforms.Compose([\n",
    "                    torchvision.transforms.ToTensor()]))\n",
    "#Important no Normalize since we want image between 0, 1 to get the targets as int [0, ..., 255]\n",
    "test_dataloader = DataLoader(test_dataset,batch_size=BS, shuffle=True)"
   ]
  },
  {
   "cell_type": "code",
   "execution_count": 60,
   "metadata": {},
   "outputs": [],
   "source": [
    "batch = next(iter(test_dataloader))[0]"
   ]
  },
  {
   "cell_type": "code",
   "execution_count": 61,
   "metadata": {},
   "outputs": [],
   "source": [
    "model.eval()\n",
    "with torch.no_grad():\n",
    "    batch = quantisize(batch,2).to(device).float()\n",
    "    out = model(2*(batch-.5))\n",
    "\n",
    "    loss = binary_criterion(out, batch)\n"
   ]
  },
  {
   "cell_type": "code",
   "execution_count": 62,
   "metadata": {},
   "outputs": [
    {
     "data": {
      "text/plain": [
       "<matplotlib.image.AxesImage at 0x22abb618e50>"
      ]
     },
     "execution_count": 62,
     "metadata": {},
     "output_type": "execute_result"
    },
    {
     "data": {
      "image/png": "[encoded data removed]",
      "text/plain": [
       "<Figure size 640x480 with 1 Axes>"
      ]
     },
     "metadata": {},
     "output_type": "display_data"
    }
   ],
   "source": [
    "imshow(out[0,0].cpu().numpy())"
   ]
  },
  {
   "cell_type": "code",
   "execution_count": 63,
   "metadata": {},
   "outputs": [
    {
     "data": {
      "text/plain": [
       "<matplotlib.image.AxesImage at 0x22abb69b310>"
      ]
     },
     "execution_count": 63,
     "metadata": {},
     "output_type": "execute_result"
    },
    {
     "data": {
      "image/png": "[encoded data removed]",
      "text/plain": [
       "<Figure size 640x480 with 1 Axes>"
      ]
     },
     "metadata": {},
     "output_type": "display_data"
    }
   ],
   "source": [
    "imshow(batch[0,0].cpu().numpy())"
   ]
  },
  {
   "cell_type": "markdown",
   "metadata": {},
   "source": [
    "# PixelCNN from paper"
   ]
  },
  {
   "cell_type": "code",
   "execution_count": 7,
   "metadata": {},
   "outputs": [],
   "source": [
    "from models import PixelCNN_paper\n",
    "model = PixelCNN_paper()\n",
    "model.to(device)\n",
    "\n",
    "lr = 0.001\n",
    "optim = torch.optim.AdamW(model.parameters(), lr = lr)\n",
    "criterion = nn.BCELoss()\n"
   ]
  },
  {
   "cell_type": "code",
   "execution_count": 8,
   "metadata": {},
   "outputs": [
    {
     "name": "stderr",
     "output_type": "stream",
     "text": [
      "  0%|          | 0/469 [00:00<?, ?it/s]C:\\Users\\yanne\\AppData\\Local\\Temp\\ipykernel_20392\\2955468221.py:18: UserWarning: torch.nn.utils.clip_grad_norm is now deprecated in favor of torch.nn.utils.clip_grad_norm_.\n",
      "  nn.utils.clip_grad_norm(model.parameters(), 1)\n",
      "Loss: 0.090: 100%|██████████| 469/469 [02:20<00:00,  3.34it/s]\n",
      "Loss: 0.089: 100%|██████████| 469/469 [02:22<00:00,  3.30it/s]\n",
      "Loss: 0.084: 100%|██████████| 469/469 [02:26<00:00,  3.21it/s]\n",
      "Loss: 0.085: 100%|██████████| 469/469 [02:25<00:00,  3.23it/s]\n",
      "Loss: 0.085: 100%|██████████| 469/469 [02:26<00:00,  3.20it/s]\n",
      "Loss: 0.085: 100%|██████████| 469/469 [02:27<00:00,  3.19it/s]\n",
      "Loss: 0.084: 100%|██████████| 469/469 [02:29<00:00,  3.14it/s]\n",
      "Loss: 0.081: 100%|██████████| 469/469 [02:26<00:00,  3.20it/s]\n",
      "Loss: 0.083: 100%|██████████| 469/469 [02:29<00:00,  3.13it/s]\n",
      "Loss: 0.085: 100%|██████████| 469/469 [02:29<00:00,  3.14it/s]\n",
      "Loss: 0.082: 100%|██████████| 469/469 [02:30<00:00,  3.11it/s]\n",
      "Loss: 0.077: 100%|██████████| 469/469 [02:32<00:00,  3.07it/s]\n",
      "Loss: 0.079: 100%|██████████| 469/469 [02:28<00:00,  3.15it/s]\n",
      "Loss: 0.076: 100%|██████████| 469/469 [02:32<00:00,  3.07it/s]\n",
      "Loss: 0.081: 100%|██████████| 469/469 [02:31<00:00,  3.10it/s]\n",
      "Loss: 0.078: 100%|██████████| 469/469 [02:27<00:00,  3.18it/s]\n",
      "Loss: 0.077: 100%|██████████| 469/469 [02:32<00:00,  3.07it/s]\n",
      "Loss: 0.078: 100%|██████████| 469/469 [02:25<00:00,  3.23it/s]\n",
      "Loss: 0.076: 100%|██████████| 469/469 [02:23<00:00,  3.27it/s]\n",
      "Loss: 0.075: 100%|██████████| 469/469 [02:19<00:00,  3.36it/s]\n",
      "Loss: 0.079: 100%|██████████| 469/469 [02:27<00:00,  3.17it/s]\n",
      "Loss: 0.076: 100%|██████████| 469/469 [02:26<00:00,  3.20it/s]\n",
      "Loss: 0.076: 100%|██████████| 469/469 [02:26<00:00,  3.21it/s]\n",
      "Loss: 0.075: 100%|██████████| 469/469 [02:26<00:00,  3.19it/s]\n",
      "Loss: 0.077: 100%|██████████| 469/469 [02:26<00:00,  3.19it/s]\n"
     ]
    }
   ],
   "source": [
    "nb_epochs = 25\n",
    "losses = []\n",
    "\n",
    "model.train()\n",
    "for _ in range(nb_epochs):\n",
    "    pbar = tqdm.tqdm(dataloader)\n",
    "    for x, _ in pbar:\n",
    "        img = quantisize(x,2).to(device).float()\n",
    "        optim.zero_grad()\n",
    "\n",
    "        out = model(2*(img-.5))\n",
    "\n",
    "        loss = criterion(out, img)\n",
    "        \n",
    "\n",
    "        loss.backward()\n",
    "\n",
    "        nn.utils.clip_grad_norm(model.parameters(), 1)\n",
    "        optim.step()\n",
    "\n",
    "        losses.append(loss.item())\n",
    "        pbar.set_description(f'Loss: %.3f' % loss.item())\n",
    "\n"
   ]
  },
  {
   "cell_type": "code",
   "execution_count": 9,
   "metadata": {},
   "outputs": [
    {
     "data": {
      "text/plain": [
       "[<matplotlib.lines.Line2D at 0x15baddcd3d0>]"
      ]
     },
     "execution_count": 9,
     "metadata": {},
     "output_type": "execute_result"
    },
    {
     "data": {
      "image/png": "[encoded data removed]",
      "text/plain": [
       "<Figure size 640x480 with 1 Axes>"
      ]
     },
     "metadata": {},
     "output_type": "display_data"
    }
   ],
   "source": [
    "plot(losses)"
   ]
  },
  {
   "cell_type": "code",
   "execution_count": 17,
   "metadata": {},
   "outputs": [],
   "source": [
    "img = model.generate(16,28)\n",
    "grid = torchvision.utils.make_grid(img.cpu(), nrow = 4)"
   ]
  },
  {
   "cell_type": "code",
   "execution_count": 18,
   "metadata": {},
   "outputs": [
    {
     "data": {
      "text/plain": [
       "<matplotlib.image.AxesImage at 0x15c170559d0>"
      ]
     },
     "execution_count": 18,
     "metadata": {},
     "output_type": "execute_result"
    },
    {
     "data": {
      "image/png": "[encoded data removed]",
      "text/plain": [
       "<Figure size 640x480 with 1 Axes>"
      ]
     },
     "metadata": {},
     "output_type": "display_data"
    }
   ],
   "source": [
    "imshow(grid.permute(1,2,0))"
   ]
  },
  {
   "cell_type": "code",
   "execution_count": 16,
   "metadata": {},
   "outputs": [
    {
     "data": {
      "text/plain": [
       "<All keys matched successfully>"
      ]
     },
     "execution_count": 16,
     "metadata": {},
     "output_type": "execute_result"
    }
   ],
   "source": [
    "#torch.save(model.cpu().state_dict(), './model_saves/pixelcnn_paperMNIST.pth')\n",
    "#model.load_state_dict(torch.load('./model_saves/pixelcnn_paperMNIST.pth'))"
   ]
  },
  {
   "cell_type": "code",
   "execution_count": 49,
   "metadata": {},
   "outputs": [],
   "source": [
    "nb_classes = 4\n",
    "model = PixelCNN(nb_classes = nb_classes)\n",
    "model.to(device)\n",
    "\n",
    "lr = 0.001\n",
    "optim = torch.optim.AdamW(model.parameters(), lr = lr)\n",
    "criterion = nn.CrossEntropyLoss()\n",
    "\n"
   ]
  },
  {
   "cell_type": "code",
   "execution_count": 50,
   "metadata": {},
   "outputs": [
    {
     "name": "stderr",
     "output_type": "stream",
     "text": [
      "Loss: 0.802: 100%|██████████| 469/469 [02:46<00:00,  2.81it/s]\n",
      "Loss: 0.799: 100%|██████████| 469/469 [02:45<00:00,  2.84it/s]\n",
      "Loss: 0.798: 100%|██████████| 469/469 [02:45<00:00,  2.84it/s]\n",
      "Loss: 0.798: 100%|██████████| 469/469 [02:45<00:00,  2.83it/s]\n",
      "Loss: 0.792: 100%|██████████| 469/469 [02:45<00:00,  2.83it/s]\n",
      "Loss: 0.794: 100%|██████████| 469/469 [02:45<00:00,  2.83it/s]\n",
      "Loss: 0.797: 100%|██████████| 469/469 [02:45<00:00,  2.84it/s]\n",
      "Loss: 0.798: 100%|██████████| 469/469 [02:46<00:00,  2.82it/s]\n",
      "Loss: 0.797: 100%|██████████| 469/469 [02:49<00:00,  2.76it/s]\n",
      "Loss: 0.797: 100%|██████████| 469/469 [02:44<00:00,  2.84it/s]\n",
      "Loss: 0.795: 100%|██████████| 469/469 [02:47<00:00,  2.80it/s]\n",
      "Loss: 0.796: 100%|██████████| 469/469 [02:40<00:00,  2.92it/s]\n",
      "Loss: 0.794: 100%|██████████| 469/469 [02:41<00:00,  2.91it/s]\n",
      "Loss: 0.797: 100%|██████████| 469/469 [02:43<00:00,  2.86it/s]\n",
      "Loss: 0.795: 100%|██████████| 469/469 [02:39<00:00,  2.94it/s]\n",
      "Loss: 0.795: 100%|██████████| 469/469 [02:43<00:00,  2.87it/s]\n",
      "Loss: 0.796: 100%|██████████| 469/469 [02:48<00:00,  2.78it/s]\n",
      "Loss: 0.793: 100%|██████████| 469/469 [02:41<00:00,  2.91it/s]\n",
      "Loss: 0.792: 100%|██████████| 469/469 [02:37<00:00,  2.97it/s]\n",
      "Loss: 0.794: 100%|██████████| 469/469 [02:45<00:00,  2.84it/s]\n",
      "Loss: 0.793: 100%|██████████| 469/469 [02:48<00:00,  2.79it/s]\n",
      "Loss: 0.792: 100%|██████████| 469/469 [02:49<00:00,  2.77it/s]\n",
      "Loss: 0.793: 100%|██████████| 469/469 [02:55<00:00,  2.67it/s]\n",
      "Loss: 0.794: 100%|██████████| 469/469 [02:45<00:00,  2.84it/s]\n",
      "Loss: 0.794: 100%|██████████| 469/469 [02:50<00:00,  2.75it/s]\n"
     ]
    }
   ],
   "source": [
    "nb_epochs = 25\n",
    "losses = []\n",
    "\n",
    "model.train()\n",
    "for _ in range(nb_epochs):\n",
    "    pbar = tqdm.tqdm(dataloader)\n",
    "    for x, _ in pbar:\n",
    "        x = x.to(device)\n",
    "        img = quantisize(x,nb_classes)\n",
    "        optim.zero_grad()\n",
    "\n",
    "        out = model(2*(img.float()/(nb_classes-1)-.5).unsqueeze(1))\n",
    "\n",
    "        loss = criterion(out, img)\n",
    "        \n",
    "        loss.backward()\n",
    "\n",
    "        #nn.utils.clip_grad_norm(model.parameters(), 1)\n",
    "        optim.step()\n",
    "\n",
    "        losses.append(loss.item())\n",
    "        pbar.set_description(f'Loss: %.3f' % loss.item())\n",
    "\n"
   ]
  },
  {
   "cell_type": "code",
   "execution_count": 51,
   "metadata": {},
   "outputs": [
    {
     "data": {
      "text/plain": [
       "[<matplotlib.lines.Line2D at 0x25acbba3dd0>]"
      ]
     },
     "execution_count": 51,
     "metadata": {},
     "output_type": "execute_result"
    },
    {
     "data": {
      "image/png": "[encoded data removed]",
      "text/plain": [
       "<Figure size 640x480 with 1 Axes>"
      ]
     },
     "metadata": {},
     "output_type": "display_data"
    }
   ],
   "source": [
    "plot(losses)"
   ]
  },
  {
   "cell_type": "code",
   "execution_count": 52,
   "metadata": {},
   "outputs": [],
   "source": [
    "img = model.generate(16,28)\n",
    "grid = torchvision.utils.make_grid(img.cpu(), nrow = 4)"
   ]
  },
  {
   "cell_type": "code",
   "execution_count": 53,
   "metadata": {},
   "outputs": [
    {
     "name": "stderr",
     "output_type": "stream",
     "text": [
      "Clipping input data to the valid range for imshow with RGB data ([0..1] for floats or [0..255] for integers).\n"
     ]
    },
    {
     "data": {
      "text/plain": [
       "<matplotlib.image.AxesImage at 0x25acbba3010>"
      ]
     },
     "execution_count": 53,
     "metadata": {},
     "output_type": "execute_result"
    },
    {
     "data": {
      "image/png": "[encoded data removed]",
      "text/plain": [
       "<Figure size 640x480 with 1 Axes>"
      ]
     },
     "metadata": {},
     "output_type": "display_data"
    }
   ],
   "source": [
    "imshow(grid.permute(1,2,0))"
   ]
  },
  {
   "cell_type": "code",
   "execution_count": 55,
   "metadata": {},
   "outputs": [
    {
     "data": {
      "text/plain": [
       "<matplotlib.image.AxesImage at 0x25b20ba0b50>"
      ]
     },
     "execution_count": 55,
     "metadata": {},
     "output_type": "execute_result"
    },
    {
     "data": {
      "image/png": "[encoded data removed]",
      "text/plain": [
       "<Figure size 640x480 with 1 Axes>"
      ]
     },
     "metadata": {},
     "output_type": "display_data"
    }
   ],
   "source": [
    "imshow(x.cpu()[0,0])"
   ]
  },
  {
   "cell_type": "code",
   "execution_count": 54,
   "metadata": {},
   "outputs": [
    {
     "data": {
      "text/plain": [
       "<matplotlib.image.AxesImage at 0x25b20c6ded0>"
      ]
     },
     "execution_count": 54,
     "metadata": {},
     "output_type": "execute_result"
    },
    {
     "data": {
      "image/png": "[encoded data removed]",
      "text/plain": [
       "<Figure size 640x480 with 1 Axes>"
      ]
     },
     "metadata": {},
     "output_type": "display_data"
    }
   ],
   "source": [
    "imshow(torch.argmax(out.cpu()[0], dim = 0))"
   ]
  },
  {
   "cell_type": "code",
   "execution_count": 31,
   "metadata": {},
   "outputs": [
    {
     "data": {
      "text/plain": [
       "tensor(0., device='cuda:0')"
      ]
     },
     "execution_count": 31,
     "metadata": {},
     "output_type": "execute_result"
    }
   ],
   "source": [
    "torch.min(img[0,0])"
   ]
  },
  {
   "cell_type": "code",
   "execution_count": 39,
   "metadata": {},
   "outputs": [
    {
     "data": {
      "text/plain": [
       "tensor(2.0794, device='cuda:0')"
      ]
     },
     "execution_count": 39,
     "metadata": {},
     "output_type": "execute_result"
    }
   ],
   "source": [
    "criterion(torch.ones(1,8,28,28).to(device),img[0].long())"
   ]
  },
  {
   "cell_type": "code",
   "execution_count": 37,
   "metadata": {},
   "outputs": [
    {
     "data": {
      "text/plain": [
       "torch.float32"
      ]
     },
     "execution_count": 37,
     "metadata": {},
     "output_type": "execute_result"
    }
   ],
   "source": [
    "img[0].dtype"
   ]
  },
  {
   "cell_type": "code",
   "execution_count": 56,
   "metadata": {},
   "outputs": [],
   "source": [
    "#torch.save(model.cpu().state_dict(), './model_saves/pixelcnn_paperMNIST_8bits.pth')\n",
    "#model.load_state_dict(torch.load('./model_saves/pixelcnn_paperMNIST.pth'))"
   ]
  },
  {
   "cell_type": "code",
   "execution_count": null,
   "metadata": {},
   "outputs": [],
   "source": []
  }
 ],
 "metadata": {
  "kernelspec": {
   "display_name": "base",
   "language": "python",
   "name": "python3"
  },
  "language_info": {
   "codemirror_mode": {
    "name": "ipython",
    "version": 3
   },
   "file_extension": ".py",
   "mimetype": "text/x-python",
   "name": "python",
   "nbconvert_exporter": "python",
   "pygments_lexer": "ipython3",
   "version": "3.11.5"
  }
 },
 "nbformat": 4,
 "nbformat_minor": 2
}
